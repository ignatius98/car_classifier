{
  "cells": [
    {
      "cell_type": "markdown",
      "metadata": {
        "id": "view-in-github",
        "colab_type": "text"
      },
      "source": [
        "<a href=\"https://colab.research.google.com/github/ignatius98/car_classifier/blob/main/EL_falcon_classifier.ipynb\" target=\"_parent\"><img src=\"https://colab.research.google.com/assets/colab-badge.svg\" alt=\"Open In Colab\"/></a>"
      ]
    },
    {
      "cell_type": "code",
      "source": [
        "from fastai.vision.all import *\n",
        "from fastai.vision.widgets import *"
      ],
      "metadata": {
        "id": "kK9Unm4W0H7w"
      },
      "execution_count": 10,
      "outputs": []
    },
    {
      "cell_type": "markdown",
      "source": [
        "## Is that an EL Ford Falcon?"
      ],
      "metadata": {
        "id": "n5VDjQyA0T0h"
      }
    },
    {
      "cell_type": "code",
      "source": [
        "path = Path()\n",
        "learn_inf = load_learner(path/'export.pkl', cpu=True)\n",
        "btn_upload = widgets.FileUpload()\n",
        "out_pl = widgets.Output()\n",
        "lbl_pred = widgets.Label()"
      ],
      "metadata": {
        "id": "XBi0G11B0i_L"
      },
      "execution_count": null,
      "outputs": []
    },
    {
      "cell_type": "code",
      "source": [
        "def on_data_change(change):\n",
        "    lbl_pred.value = ''\n",
        "    img = PILImage.create(btn_upload.data[-1])\n",
        "    out_pl.clear_output()\n",
        "    with out_pl: display(img.to_thumb(128,128))\n",
        "    pred,pred_idx,probs = learn_inf.predict(img)\n",
        "    lbl_pred.value = f'Prediction: {pred}; Probability: {probs[pred_idx]:.04f}'"
      ],
      "metadata": {
        "id": "wwv1PmZd0i86"
      },
      "execution_count": null,
      "outputs": []
    },
    {
      "cell_type": "code",
      "source": [
        "btn_upload.observe(on_data_change, names=['data'])"
      ],
      "metadata": {
        "id": "4FWLAVLC0i7M"
      },
      "execution_count": null,
      "outputs": []
    },
    {
      "cell_type": "code",
      "source": [
        "display(VBox([widgets.Label('Is that an EL Ford Falcon?'), btn_upload, out_pl, lbl_pred]))"
      ],
      "metadata": {
        "id": "ZDtBu1630m40"
      },
      "execution_count": null,
      "outputs": []
    }
  ],
  "metadata": {
    "jupytext": {
      "split_at_heading": true
    },
    "kernelspec": {
      "display_name": "Python 3",
      "name": "python3"
    },
    "colab": {
      "provenance": [],
      "gpuType": "T4",
      "toc_visible": true,
      "include_colab_link": true
    },
    "accelerator": "GPU"
  },
  "nbformat": 4,
  "nbformat_minor": 0
}